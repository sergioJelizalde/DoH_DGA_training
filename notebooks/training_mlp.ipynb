{
 "cells": [
  {
   "cell_type": "code",
   "execution_count": 1,
   "id": "28da30ca",
   "metadata": {},
   "outputs": [
    {
     "name": "stdout",
     "output_type": "stream",
     "text": [
      "DGA_MALWARE shape: (9012, 25)\n",
      "DGA_Synthetic shape: (6460, 25)\n",
      "DoH_Tunnel shape: (6008, 26)\n",
      "\n",
      "Final dataset shape: (15020, 26)\n",
      "Labels distribution:\n",
      " label\n",
      "DGA_MALWARE    9012\n",
      "DoH_Tunnel     6008\n",
      "Name: count, dtype: int64\n",
      "Columns:\n",
      " ['session_id', 'client_ip', 'server_ip', 'client_port', 'server_port', 'protocol', 'N', 'n_client', 'client_bytes', 'client_pkt_min', 'client_pkt_mean', 'client_pkt_max', 'client_iat_min', 'client_iat_mean', 'client_iat_max', 'n_server', 'server_bytes', 'server_pkt_min', 'server_pkt_mean', 'server_pkt_max', 'server_iat_min', 'server_iat_mean', 'server_iat_max', 'bytes_ratio', 'label', 'pcap_file']\n"
     ]
    }
   ],
   "source": [
    "import pandas as pd\n",
    "from sklearn.model_selection import train_test_split\n",
    "from sklearn.preprocessing import StandardScaler, LabelEncoder\n",
    "from sklearn.neural_network import MLPClassifier\n",
    "from sklearn.metrics import classification_report, confusion_matrix\n",
    "\n",
    "# File paths\n",
    "dga_malware_file = \"/home/ubuntu/DoH_DGA_training/datasets/DGA/all_pcaps_allN.csv\"\n",
    "\n",
    "dga_synthetic_file1 = \"/home/ubuntu/DoH_DGA_training/datasets/DGA_PCAPS1_ENC/all_pcaps_allN.csv\"\n",
    "dga_synthetic_file2 = \"/home/ubuntu/DoH_DGA_training/datasets/DGA_PCAPS2_ENC/all_pcaps_allN.csv\"\n",
    "\n",
    "doh_tunnel_file = \"/home/ubuntu/DoH_DGA_training/datasets/DoH_HKD/DoH-Pcaps/all_pcaps_allN.csv\"\n",
    "\n",
    "# Load datasets\n",
    "df_dga_malware = pd.read_csv(dga_malware_file)\n",
    "\n",
    "df_dga_synthetic1 = pd.read_csv(dga_synthetic_file1)\n",
    "df_dga_synthetic2 = pd.read_csv(dga_synthetic_file2)\n",
    "\n",
    "df_doh_tunnel = pd.read_csv(doh_tunnel_file)\n",
    "\n",
    "# Assign labels\n",
    "df_dga_malware[\"label\"] = \"DGA_MALWARE\"\n",
    "\n",
    "df_dga_synthetic1[\"label\"] = \"DGA_Synthetic\"\n",
    "df_dga_synthetic2[\"label\"] = \"DGA_Synthetic\"\n",
    "df_dga_synthetic = pd.concat([df_dga_synthetic1, df_dga_synthetic2], ignore_index=True)\n",
    "\n",
    "df_doh_tunnel[\"label\"] = \"DoH_Tunnel\"\n",
    "\n",
    "print(\"DGA_MALWARE shape:\", df_dga_malware.shape)\n",
    "print(\"DGA_Synthetic shape:\", df_dga_synthetic.shape)\n",
    "print(\"DoH_Tunnel shape:\", df_doh_tunnel.shape)\n",
    "\n",
    "# Combine all into one DataFrame\n",
    "df_all = pd.concat([df_dga_malware, df_dga_synthetic, df_doh_tunnel], ignore_index=True)\n",
    "df_all = pd.concat([df_dga_malware, df_doh_tunnel], ignore_index=True)\n",
    "\n",
    "print(\"\\nFinal dataset shape:\", df_all.shape)\n",
    "print(\"Labels distribution:\\n\", df_all[\"label\"].value_counts())\n",
    "print(\"Columns:\\n\", list(df_all.columns))\n"
   ]
  },
  {
   "cell_type": "code",
   "execution_count": 2,
   "id": "d64c40b3",
   "metadata": {},
   "outputs": [
    {
     "name": "stdout",
     "output_type": "stream",
     "text": [
      "\n",
      "Training on N=8, dataset size=3755\n",
      "Remaining feature columns:\n",
      " ['n_client', 'client_bytes', 'client_pkt_min', 'client_pkt_mean', 'client_pkt_max', 'client_iat_min', 'client_iat_mean', 'client_iat_max', 'n_server', 'server_bytes', 'server_pkt_min', 'server_pkt_mean', 'server_pkt_max', 'server_iat_min', 'server_iat_mean', 'server_iat_max', 'bytes_ratio']\n",
      "Target classes: ['DGA_MALWARE' 'DoH_Tunnel']\n"
     ]
    }
   ],
   "source": [
    "N_value = 8   # <-- change this to 8, 16, 32, 64 as needed\n",
    "df_subset = df_all[df_all[\"N\"] == N_value].copy()\n",
    "\n",
    "print(f\"\\nTraining on N={N_value}, dataset size={df_subset.shape[0]}\")\n",
    "\n",
    "# Separate features and target\n",
    "y = df_subset[\"label\"]\n",
    "X = df_subset.drop(columns=[\n",
    "    \"label\", 'session_id', 'client_ip', 'server_ip', \n",
    "    'client_port', 'server_port', 'protocol', 'N',\n",
    "    \"flow_id\", \"src_ip\", \"dst_ip\", \n",
    "    \"src_port\", \"dst_port\", \"protocol\", 'pcap_file'\n",
    "], errors=\"ignore\")\n",
    "\n",
    "# Keep only numeric features\n",
    "X = X.select_dtypes(include=[\"int64\", \"float64\"])\n",
    "\n",
    "print(\"Remaining feature columns:\\n\", list(X.columns))\n",
    "print(\"Target classes:\", y.unique())"
   ]
  },
  {
   "cell_type": "code",
   "execution_count": 3,
   "id": "9566ddb9",
   "metadata": {},
   "outputs": [],
   "source": [
    "# Encode labels\n",
    "le = LabelEncoder()\n",
    "y_enc = le.fit_transform(y)\n",
    "\n",
    "# Train/test split\n",
    "X_train, X_test, y_train, y_test = train_test_split(\n",
    "    X, y_enc, test_size=0.3, random_state=42, stratify=y_enc\n",
    ")\n",
    "\n",
    "# Standardize\n",
    "scaler = StandardScaler()\n",
    "X_train = scaler.fit_transform(X_train)\n",
    "X_test = scaler.transform(X_test)"
   ]
  },
  {
   "cell_type": "code",
   "execution_count": null,
   "id": "4a17b1f3",
   "metadata": {},
   "outputs": [
    {
     "name": "stdout",
     "output_type": "stream",
     "text": [
      "\n",
      "Classification Report:\n",
      "              precision    recall  f1-score   support\n",
      "\n",
      " DGA_MALWARE       1.00      1.00      1.00       676\n",
      "  DoH_Tunnel       1.00      1.00      1.00       451\n",
      "\n",
      "    accuracy                           1.00      1127\n",
      "   macro avg       1.00      1.00      1.00      1127\n",
      "weighted avg       1.00      1.00      1.00      1127\n",
      "\n"
     ]
    }
   ],
   "source": [
    "# Train MLP\n",
    "mlp = MLPClassifier(hidden_layer_sizes=(64,32), max_iter=200, random_state=42)\n",
    "mlp.fit(X_train, y_train)\n",
    "\n",
    "# Evaluate\n",
    "y_pred = mlp.predict(X_test)\n",
    "print(\"\\nClassification Report:\")\n",
    "print(classification_report(y_test, y_pred, target_names=le.classes_))"
   ]
  },
  {
   "cell_type": "code",
   "execution_count": 8,
   "id": "410d62b4",
   "metadata": {},
   "outputs": [
    {
     "data": {
      "image/png": "[encoded data removed]",
      "text/plain": [
       "<Figure size 1000x600 with 1 Axes>"
      ]
     },
     "metadata": {},
     "output_type": "display_data"
    }
   ],
   "source": [
    "import matplotlib.pyplot as plt\n",
    "from sklearn.inspection import permutation_importance\n",
    "\n",
    "# --- Create generic feature names ---\n",
    "feature_names = [f\"f{i}\" for i in range(X_train.shape[1])]\n",
    "\n",
    "# Compute permutation importance on test set\n",
    "result = permutation_importance(\n",
    "    mlp, X_test, y_test, n_repeats=10, random_state=42, n_jobs=-1\n",
    ")\n",
    "\n",
    "# Sort by importance\n",
    "sorted_idx = result.importances_mean.argsort()\n",
    "\n",
    "plt.figure(figsize=(10, 6))\n",
    "plt.barh(\n",
    "    range(len(sorted_idx)), \n",
    "    result.importances_mean[sorted_idx], \n",
    "    xerr=result.importances_std[sorted_idx]\n",
    ")\n",
    "plt.yticks(range(len(sorted_idx)), np.array(feature_names)[sorted_idx])\n",
    "plt.xlabel(\"Permutation Importance\")\n",
    "plt.title(\"MLP Feature Importance (Permutation)\")\n",
    "plt.show()\n"
   ]
  },
  {
   "cell_type": "code",
   "execution_count": 15,
   "id": "624f783d",
   "metadata": {},
   "outputs": [
    {
     "name": "stdout",
     "output_type": "stream",
     "text": [
      "Using KernelExplainer (this may take a few minutes)...\n"
     ]
    },
    {
     "name": "stderr",
     "output_type": "stream",
     "text": [
      "100%|██████████| 50/50 [00:02<00:00, 22.94it/s]"
     ]
    },
    {
     "name": "stdout",
     "output_type": "stream",
     "text": [
      "SHAP calculation completed!\n"
     ]
    },
    {
     "name": "stderr",
     "output_type": "stream",
     "text": [
      "\n",
      "/tmp/ipykernel_66079/3480422207.py:33: FutureWarning: The NumPy global RNG was seeded by calling `np.random.seed`. In a future version this function will no longer use the global RNG. Pass `rng` explicitly to opt-in to the new behaviour and silence this warning.\n",
      "  shap.summary_plot(shap_values[target_class], X_test_sample,\n"
     ]
    },
    {
     "ename": "AssertionError",
     "evalue": "The shape of the shap_values matrix does not match the shape of the provided data matrix.",
     "output_type": "error",
     "traceback": [
      "\u001b[0;31m---------------------------------------------------------------------------\u001b[0m",
      "\u001b[0;31mAssertionError\u001b[0m                            Traceback (most recent call last)",
      "Cell \u001b[0;32mIn[15], line 33\u001b[0m\n\u001b[1;32m     31\u001b[0m \u001b[38;5;66;03m# Summary plot\u001b[39;00m\n\u001b[1;32m     32\u001b[0m plt\u001b[38;5;241m.\u001b[39mfigure(figsize\u001b[38;5;241m=\u001b[39m(\u001b[38;5;241m10\u001b[39m, \u001b[38;5;241m6\u001b[39m))\n\u001b[0;32m---> 33\u001b[0m \u001b[43mshap\u001b[49m\u001b[38;5;241;43m.\u001b[39;49m\u001b[43msummary_plot\u001b[49m\u001b[43m(\u001b[49m\u001b[43mshap_values\u001b[49m\u001b[43m[\u001b[49m\u001b[43mtarget_class\u001b[49m\u001b[43m]\u001b[49m\u001b[43m,\u001b[49m\u001b[43m \u001b[49m\u001b[43mX_test_sample\u001b[49m\u001b[43m,\u001b[49m\u001b[43m \u001b[49m\n\u001b[1;32m     34\u001b[0m \u001b[43m                 \u001b[49m\u001b[43mfeature_names\u001b[49m\u001b[38;5;241;43m=\u001b[39;49m\u001b[43mfeature_names\u001b[49m\u001b[43m,\u001b[49m\n\u001b[1;32m     35\u001b[0m \u001b[43m                 \u001b[49m\u001b[43mshow\u001b[49m\u001b[38;5;241;43m=\u001b[39;49m\u001b[38;5;28;43;01mFalse\u001b[39;49;00m\u001b[43m)\u001b[49m\n\u001b[1;32m     36\u001b[0m plt\u001b[38;5;241m.\u001b[39mtitle(\u001b[38;5;124mf\u001b[39m\u001b[38;5;124m\"\u001b[39m\u001b[38;5;124mSHAP Summary - Class \u001b[39m\u001b[38;5;132;01m{\u001b[39;00mtarget_class\u001b[38;5;132;01m}\u001b[39;00m\u001b[38;5;124m (\u001b[39m\u001b[38;5;132;01m{\u001b[39;00mle\u001b[38;5;241m.\u001b[39mclasses_[target_class]\u001b[38;5;132;01m}\u001b[39;00m\u001b[38;5;124m)\u001b[39m\u001b[38;5;124m\"\u001b[39m)\n\u001b[1;32m     37\u001b[0m plt\u001b[38;5;241m.\u001b[39mtight_layout()\n",
      "File \u001b[0;32m~/miniconda/envs/jupyterenv/lib/python3.10/site-packages/shap/plots/_beeswarm.py:667\u001b[0m, in \u001b[0;36msummary_legacy\u001b[0;34m(shap_values, features, feature_names, max_display, plot_type, color, axis_color, title, alpha, show, sort, color_bar, plot_size, layered_violin_max_num_bins, class_names, class_inds, color_bar_label, cmap, show_values_in_legend, use_log_scale, rng)\u001b[0m\n\u001b[1;32m    662\u001b[0m         \u001b[38;5;28;01mraise\u001b[39;00m \u001b[38;5;167;01mValueError\u001b[39;00m(\n\u001b[1;32m    663\u001b[0m             shape_msg \u001b[38;5;241m+\u001b[39m \u001b[38;5;124m\"\u001b[39m\u001b[38;5;124m Perhaps the extra column in the shap_values matrix is the \u001b[39m\u001b[38;5;124m\"\u001b[39m\n\u001b[1;32m    664\u001b[0m             \u001b[38;5;124m\"\u001b[39m\u001b[38;5;124mconstant offset? Of so just pass shap_values[:,:-1].\u001b[39m\u001b[38;5;124m\"\u001b[39m\n\u001b[1;32m    665\u001b[0m         )\n\u001b[1;32m    666\u001b[0m     \u001b[38;5;28;01melse\u001b[39;00m:\n\u001b[0;32m--> 667\u001b[0m         \u001b[38;5;28;01massert\u001b[39;00m num_features \u001b[38;5;241m==\u001b[39m features\u001b[38;5;241m.\u001b[39mshape[\u001b[38;5;241m1\u001b[39m], shape_msg\n\u001b[1;32m    669\u001b[0m \u001b[38;5;28;01mif\u001b[39;00m feature_names \u001b[38;5;129;01mis\u001b[39;00m \u001b[38;5;28;01mNone\u001b[39;00m:\n\u001b[1;32m    670\u001b[0m     feature_names \u001b[38;5;241m=\u001b[39m np\u001b[38;5;241m.\u001b[39marray([labels[\u001b[38;5;124m\"\u001b[39m\u001b[38;5;124mFEATURE\u001b[39m\u001b[38;5;124m\"\u001b[39m] \u001b[38;5;241m%\u001b[39m \u001b[38;5;28mstr\u001b[39m(i) \u001b[38;5;28;01mfor\u001b[39;00m i \u001b[38;5;129;01min\u001b[39;00m \u001b[38;5;28mrange\u001b[39m(num_features)])\n",
      "\u001b[0;31mAssertionError\u001b[0m: The shape of the shap_values matrix does not match the shape of the provided data matrix."
     ]
    },
    {
     "data": {
      "text/plain": [
       "<Figure size 1000x600 with 0 Axes>"
      ]
     },
     "metadata": {},
     "output_type": "display_data"
    }
   ],
   "source": [
    "import shap\n",
    "import numpy as np\n",
    "import matplotlib.pyplot as plt\n",
    "\n",
    "# Use very small samples for KernelExplainer\n",
    "sample_size = 50  # Small sample size for speed\n",
    "background_size = 20  # Very small background set\n",
    "\n",
    "np.random.seed(42)\n",
    "background_indices = np.random.choice(len(X_train), size=background_size, replace=False)\n",
    "test_indices = np.random.choice(len(X_test), size=sample_size, replace=False)\n",
    "\n",
    "X_train_background = X_train[background_indices]\n",
    "X_test_sample = X_test[test_indices]\n",
    "\n",
    "print(\"Using KernelExplainer (this may take a few minutes)...\")\n",
    "\n",
    "# Create explainer - use the probability output\n",
    "explainer = shap.KernelExplainer(mlp.predict_proba, X_train_background)\n",
    "\n",
    "# Calculate SHAP values for class 0\n",
    "target_class = 0  # Change to 1 for class 1\n",
    "\n",
    "shap_values = explainer.shap_values(X_test_sample)\n",
    "\n",
    "print(f\"SHAP calculation completed!\")\n",
    "\n",
    "# Plot the results\n",
    "feature_names = X.columns if hasattr(X, 'columns') else [f'Feature_{i}' for i in range(X_train.shape[1])]\n",
    "\n",
    "# Summary plot\n",
    "plt.figure(figsize=(10, 6))\n",
    "shap.summary_plot(shap_values[target_class], X_test_sample, \n",
    "                 feature_names=feature_names,\n",
    "                 show=False)\n",
    "plt.title(f\"SHAP Summary - Class {target_class} ({le.classes_[target_class]})\")\n",
    "plt.tight_layout()\n",
    "plt.show()"
   ]
  },
  {
   "cell_type": "code",
   "execution_count": null,
   "id": "a5a187ce",
   "metadata": {},
   "outputs": [],
   "source": []
  }
 ],
 "metadata": {
  "kernelspec": {
   "display_name": "jupyterenv",
   "language": "python",
   "name": "python3"
  },
  "language_info": {
   "codemirror_mode": {
    "name": "ipython",
    "version": 3
   },
   "file_extension": ".py",
   "mimetype": "text/x-python",
   "name": "python",
   "nbconvert_exporter": "python",
   "pygments_lexer": "ipython3",
   "version": "3.10.18"
  }
 },
 "nbformat": 4,
 "nbformat_minor": 5
}
