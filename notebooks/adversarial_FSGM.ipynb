{
 "cells": [
  {
   "cell_type": "code",
   "execution_count": 3,
   "id": "485b8da0",
   "metadata": {},
   "outputs": [
    {
     "name": "stdout",
     "output_type": "stream",
     "text": [
      "DGA shape: (9012, 25)\n",
      "Tunnel shape: (6008, 26)\n",
      "Columns:\n",
      " ['session_id', 'client_ip', 'server_ip', 'client_port', 'server_port', 'protocol', 'N', 'n_client', 'client_bytes', 'client_pkt_min', 'client_pkt_mean', 'client_pkt_max', 'client_iat_min', 'client_iat_mean', 'client_iat_max', 'n_server', 'server_bytes', 'server_pkt_min', 'server_pkt_mean', 'server_pkt_max', 'server_iat_min', 'server_iat_mean', 'server_iat_max', 'bytes_ratio', 'label']\n"
     ]
    }
   ],
   "source": [
    "import pandas as pd\n",
    "from sklearn.model_selection import train_test_split\n",
    "from sklearn.preprocessing import StandardScaler, LabelEncoder\n",
    "from sklearn.neural_network import MLPClassifier\n",
    "from sklearn.metrics import classification_report, confusion_matrix\n",
    "\n",
    "# File paths\n",
    "dga_file = \"/home/ubuntu/DoH_DGA_training/datasets/DGA/all_pcaps_allN.csv\"\n",
    "tunnel_file = \"/home/ubuntu/DoH_DGA_training/datasets/DoH_HKD/DoH-Pcaps/all_pcaps_allN.csv\"\n",
    "\n",
    "# Load datasets\n",
    "df_dga = pd.read_csv(dga_file)\n",
    "df_tunnel = pd.read_csv(tunnel_file)\n",
    "\n",
    "# Assign labels\n",
    "df_dga[\"label\"] = \"DGA\"\n",
    "df_tunnel[\"label\"] = \"tunnel\"\n",
    "\n",
    "print(\"DGA shape:\", df_dga.shape)\n",
    "print(\"Tunnel shape:\", df_tunnel.shape)\n",
    "\n",
    "# Print columns to confirm structure\n",
    "print(\"Columns:\\n\", list(df_dga.columns))\n"
   ]
  },
  {
   "cell_type": "code",
   "execution_count": 4,
   "id": "59ca3886",
   "metadata": {},
   "outputs": [
    {
     "name": "stdout",
     "output_type": "stream",
     "text": [
      "Final dataset shape: (15020, 26)\n",
      "label\n",
      "DGA       9012\n",
      "tunnel    6008\n",
      "Name: count, dtype: int64\n",
      "Features shape: (15020, 18)\n"
     ]
    }
   ],
   "source": [
    "# Concatenate into one dataframe\n",
    "final_df = pd.concat([df_dga, df_tunnel], ignore_index=True)\n",
    "\n",
    "print(\"Final dataset shape:\", final_df.shape)\n",
    "print(final_df[\"label\"].value_counts())\n",
    "\n",
    "# Separate features and target\n",
    "y = final_df[\"label\"]\n",
    "X = final_df.drop(columns=[\"label\", 'session_id', 'client_ip', 'server_ip', 'client_port', 'server_port', 'protocol'])\n",
    "\n",
    "# Keep only numeric features\n",
    "X = X.select_dtypes(include=[\"int64\", \"float64\"])\n",
    "\n",
    "print(\"Features shape:\", X.shape)\n"
   ]
  },
  {
   "cell_type": "code",
   "execution_count": 5,
   "id": "2c2dafe8",
   "metadata": {},
   "outputs": [
    {
     "name": "stdout",
     "output_type": "stream",
     "text": [
      "Classes: ['DGA' 'tunnel']\n"
     ]
    }
   ],
   "source": [
    "import torch\n",
    "import torch.nn as nn\n",
    "import torch.optim as optim\n",
    "from sklearn.model_selection import train_test_split\n",
    "from sklearn.preprocessing import LabelEncoder, StandardScaler\n",
    "from sklearn.metrics import classification_report\n",
    "import numpy as np\n",
    "\n",
    "# --- Assume you already have your dataset loaded as X, y ---\n",
    "# Encode labels\n",
    "le = LabelEncoder()\n",
    "y_enc = le.fit_transform(y)\n",
    "print(\"Classes:\", le.classes_)\n",
    "\n",
    "X_train, X_test, y_train, y_test = train_test_split(\n",
    "    X, y_enc, test_size=0.2, random_state=42, stratify=y_enc\n",
    ")\n",
    "\n",
    "# Scale\n",
    "scaler = StandardScaler()\n",
    "X_train = scaler.fit_transform(X_train)\n",
    "X_test = scaler.transform(X_test)\n",
    "\n",
    "# Torch tensors\n",
    "X_train = torch.tensor(X_train, dtype=torch.float32)\n",
    "X_test = torch.tensor(X_test, dtype=torch.float32)\n",
    "y_train = torch.tensor(y_train, dtype=torch.long)\n",
    "y_test = torch.tensor(y_test, dtype=torch.long)"
   ]
  },
  {
   "cell_type": "markdown",
   "id": "62bc2c99",
   "metadata": {},
   "source": [
    "### MLP training"
   ]
  },
  {
   "cell_type": "code",
   "execution_count": 14,
   "id": "9330ff21",
   "metadata": {},
   "outputs": [
    {
     "name": "stdout",
     "output_type": "stream",
     "text": [
      "  epoch    train_loss    valid_acc    valid_loss     dur\n",
      "-------  ------------  -----------  ------------  ------\n",
      "      1        \u001b[36m0.3116\u001b[0m       \u001b[32m0.9908\u001b[0m        \u001b[35m0.0406\u001b[0m  3.0452\n",
      "      2        \u001b[36m0.0203\u001b[0m       \u001b[32m0.9942\u001b[0m        \u001b[35m0.0180\u001b[0m  3.0287\n",
      "      3        \u001b[36m0.0076\u001b[0m       \u001b[32m0.9979\u001b[0m        \u001b[35m0.0141\u001b[0m  3.0169\n",
      "      4        \u001b[36m0.0046\u001b[0m       0.9979        \u001b[35m0.0102\u001b[0m  3.0019\n",
      "      5        \u001b[36m0.0031\u001b[0m       \u001b[32m0.9983\u001b[0m        \u001b[35m0.0060\u001b[0m  3.0204\n",
      "      6        \u001b[36m0.0021\u001b[0m       \u001b[32m0.9992\u001b[0m        \u001b[35m0.0026\u001b[0m  3.0389\n",
      "      7        \u001b[36m0.0012\u001b[0m       \u001b[32m0.9996\u001b[0m        \u001b[35m0.0016\u001b[0m  3.0156\n",
      "      8        \u001b[36m0.0008\u001b[0m       0.9996        \u001b[35m0.0013\u001b[0m  3.0372\n",
      "      9        \u001b[36m0.0006\u001b[0m       0.9996        \u001b[35m0.0010\u001b[0m  3.0154\n",
      "     10        \u001b[36m0.0004\u001b[0m       \u001b[32m1.0000\u001b[0m        \u001b[35m0.0008\u001b[0m  3.0365\n",
      "Classification report:\n",
      "\n",
      "              precision    recall  f1-score   support\n",
      "\n",
      "         DGA       1.00      1.00      1.00      1802\n",
      "      tunnel       1.00      1.00      1.00      1202\n",
      "\n",
      "    accuracy                           1.00      3004\n",
      "   macro avg       1.00      1.00      1.00      3004\n",
      "weighted avg       1.00      1.00      1.00      3004\n",
      "\n"
     ]
    }
   ],
   "source": [
    "from skorch import NeuralNetClassifier\n",
    "from sklearn.inspection import permutation_importance\n",
    "\n",
    "# Wrap the MLP model\n",
    "net = NeuralNetClassifier(\n",
    "    MLP,\n",
    "    module__input_dim=X_train.shape[1],\n",
    "    module__num_classes=len(le.classes_),\n",
    "    max_epochs=10,\n",
    "    lr=0.001,\n",
    "    optimizer=optim.Adam,\n",
    "    criterion=nn.CrossEntropyLoss,\n",
    "    device='cpu'   # or 'cuda'\n",
    ")\n",
    "\n",
    "# Fit like sklearn\n",
    "net.fit(X_train, y_train)\n",
    "preds = net.predict(X_test)\n",
    "\n",
    "print(\"Classification report:\\n\")\n",
    "print(classification_report(y_test, preds, target_names=le.classes_))\n"
   ]
  },
  {
   "cell_type": "markdown",
   "id": "87733015",
   "metadata": {},
   "source": [
    "### Features analysis"
   ]
  },
  {
   "cell_type": "code",
   "execution_count": 18,
   "id": "134233d1",
   "metadata": {},
   "outputs": [
    {
     "data": {
      "image/png": "[encoded data removed]",
      "text/plain": [
       "<Figure size 1000x600 with 1 Axes>"
      ]
     },
     "metadata": {},
     "output_type": "display_data"
    }
   ],
   "source": [
    "perm_result = permutation_importance(\n",
    "    net,\n",
    "    X_test,   # must be numpy, not torch\n",
    "    y_test, \n",
    "    n_repeats=10,\n",
    "    random_state=42,\n",
    "    scoring=\"accuracy\"\n",
    ")\n",
    "\n",
    "import matplotlib.pyplot as plt\n",
    "import numpy as np\n",
    "\n",
    "# Get importance means and std dev\n",
    "importances = perm_result.importances_mean\n",
    "std = perm_result.importances_std\n",
    "\n",
    "# Feature names (if you have them, else fallback to generic)\n",
    "try:\n",
    "    feature_names = X.columns  # if X is a pandas DataFrame\n",
    "except:\n",
    "    feature_names = [f\"f{i}\" for i in range(X_test.shape[1])]\n",
    "\n",
    "# Sort features by importance\n",
    "indices = np.argsort(importances)[::-1]\n",
    "\n",
    "# Plot\n",
    "plt.figure(figsize=(10, 6))\n",
    "plt.bar(range(len(importances)), importances[indices], yerr=std[indices], align=\"center\")\n",
    "plt.xticks(range(len(importances)), np.array(feature_names)[indices], rotation=45, ha=\"right\")\n",
    "plt.title(\"Permutation Feature Importance (sklearn)\")\n",
    "plt.ylabel(\"Mean decrease in accuracy\")\n",
    "plt.tight_layout()\n",
    "plt.show()\n"
   ]
  },
  {
   "cell_type": "code",
   "execution_count": 25,
   "id": "3a9d7479",
   "metadata": {},
   "outputs": [
    {
     "name": "stderr",
     "output_type": "stream",
     "text": [
      "Using 200 background data samples could cause slower run times. Consider using shap.sample(data, K) or shap.kmeans(data, K) to summarize the background as K samples.\n",
      "100%|██████████| 100/100 [00:34<00:00,  2.91it/s]"
     ]
    },
    {
     "name": "stdout",
     "output_type": "stream",
     "text": [
      "SHAP values shape: (100, 18, 2)\n",
      "Classes: ['DGA' 'tunnel']\n"
     ]
    },
    {
     "name": "stderr",
     "output_type": "stream",
     "text": [
      "\n",
      "/tmp/ipykernel_66196/1740457562.py:22: FutureWarning: The NumPy global RNG was seeded by calling `np.random.seed`. In a future version this function will no longer use the global RNG. Pass `rng` explicitly to opt-in to the new behaviour and silence this warning.\n",
      "  shap.summary_plot(shap_values[0], test_samples, feature_names=feature_names)\n"
     ]
    },
    {
     "ename": "AssertionError",
     "evalue": "The shape of the shap_values matrix does not match the shape of the provided data matrix.",
     "output_type": "error",
     "traceback": [
      "\u001b[0;31m---------------------------------------------------------------------------\u001b[0m",
      "\u001b[0;31mAssertionError\u001b[0m                            Traceback (most recent call last)",
      "Cell \u001b[0;32mIn[25], line 22\u001b[0m\n\u001b[1;32m     19\u001b[0m \u001b[38;5;28mprint\u001b[39m(\u001b[38;5;124m\"\u001b[39m\u001b[38;5;124mClasses:\u001b[39m\u001b[38;5;124m\"\u001b[39m, le\u001b[38;5;241m.\u001b[39mclasses_)\n\u001b[1;32m     21\u001b[0m \u001b[38;5;66;03m# Pick class 0\u001b[39;00m\n\u001b[0;32m---> 22\u001b[0m \u001b[43mshap\u001b[49m\u001b[38;5;241;43m.\u001b[39;49m\u001b[43msummary_plot\u001b[49m\u001b[43m(\u001b[49m\u001b[43mshap_values\u001b[49m\u001b[43m[\u001b[49m\u001b[38;5;241;43m0\u001b[39;49m\u001b[43m]\u001b[49m\u001b[43m,\u001b[49m\u001b[43m \u001b[49m\u001b[43mtest_samples\u001b[49m\u001b[43m,\u001b[49m\u001b[43m \u001b[49m\u001b[43mfeature_names\u001b[49m\u001b[38;5;241;43m=\u001b[39;49m\u001b[43mfeature_names\u001b[49m\u001b[43m)\u001b[49m\n",
      "File \u001b[0;32m~/miniconda/envs/jupyterenv/lib/python3.10/site-packages/shap/plots/_beeswarm.py:667\u001b[0m, in \u001b[0;36msummary_legacy\u001b[0;34m(shap_values, features, feature_names, max_display, plot_type, color, axis_color, title, alpha, show, sort, color_bar, plot_size, layered_violin_max_num_bins, class_names, class_inds, color_bar_label, cmap, show_values_in_legend, use_log_scale, rng)\u001b[0m\n\u001b[1;32m    662\u001b[0m         \u001b[38;5;28;01mraise\u001b[39;00m \u001b[38;5;167;01mValueError\u001b[39;00m(\n\u001b[1;32m    663\u001b[0m             shape_msg \u001b[38;5;241m+\u001b[39m \u001b[38;5;124m\"\u001b[39m\u001b[38;5;124m Perhaps the extra column in the shap_values matrix is the \u001b[39m\u001b[38;5;124m\"\u001b[39m\n\u001b[1;32m    664\u001b[0m             \u001b[38;5;124m\"\u001b[39m\u001b[38;5;124mconstant offset? Of so just pass shap_values[:,:-1].\u001b[39m\u001b[38;5;124m\"\u001b[39m\n\u001b[1;32m    665\u001b[0m         )\n\u001b[1;32m    666\u001b[0m     \u001b[38;5;28;01melse\u001b[39;00m:\n\u001b[0;32m--> 667\u001b[0m         \u001b[38;5;28;01massert\u001b[39;00m num_features \u001b[38;5;241m==\u001b[39m features\u001b[38;5;241m.\u001b[39mshape[\u001b[38;5;241m1\u001b[39m], shape_msg\n\u001b[1;32m    669\u001b[0m \u001b[38;5;28;01mif\u001b[39;00m feature_names \u001b[38;5;129;01mis\u001b[39;00m \u001b[38;5;28;01mNone\u001b[39;00m:\n\u001b[1;32m    670\u001b[0m     feature_names \u001b[38;5;241m=\u001b[39m np\u001b[38;5;241m.\u001b[39marray([labels[\u001b[38;5;124m\"\u001b[39m\u001b[38;5;124mFEATURE\u001b[39m\u001b[38;5;124m\"\u001b[39m] \u001b[38;5;241m%\u001b[39m \u001b[38;5;28mstr\u001b[39m(i) \u001b[38;5;28;01mfor\u001b[39;00m i \u001b[38;5;129;01min\u001b[39;00m \u001b[38;5;28mrange\u001b[39m(num_features)])\n",
      "\u001b[0;31mAssertionError\u001b[0m: The shape of the shap_values matrix does not match the shape of the provided data matrix."
     ]
    },
    {
     "data": {
      "text/plain": [
       "<Figure size 640x480 with 0 Axes>"
      ]
     },
     "metadata": {},
     "output_type": "display_data"
    }
   ],
   "source": [
    "# --- SHAP with KernelExplainer (NumPy inputs) ---\n",
    "import shap\n",
    "def predict_fn(x_numpy):\n",
    "    x_t = torch.tensor(x_numpy, dtype=torch.float32)\n",
    "    with torch.no_grad():\n",
    "        out = raw_model(x_t)\n",
    "        return out.numpy()   # logits; can also use softmax if you prefer probs\n",
    "\n",
    "# Convert background and test samples to numpy\n",
    "background = X_train[:200] if isinstance(X_train, np.ndarray) else X_train.numpy()[:200]\n",
    "test_samples = X_test[:100] if isinstance(X_test, np.ndarray) else X_test.numpy()[:100]\n",
    "\n",
    "explainer = shap.KernelExplainer(predict_fn, background)\n",
    "shap_values = explainer.shap_values(test_samples)\n",
    "\n",
    "print(\"SHAP values shape:\", np.array(shap_values).shape)\n",
    "\n",
    "# shap_values is a list [array_for_class0, array_for_class1]\n",
    "print(\"Classes:\", le.classes_)\n",
    "\n",
    "# Pick class 0\n",
    "shap.summary_plot(shap_values[0], test_samples, feature_names=feature_names)\n"
   ]
  },
  {
   "cell_type": "code",
   "execution_count": null,
   "id": "5ef36ab9",
   "metadata": {},
   "outputs": [],
   "source": [
    "# --- Integrated Gradients with Captum ---\n",
    "ig = IntegratedGradients(raw_model)\n",
    "\n",
    "sample = torch.tensor(X_test[0:1], dtype=torch.float32)\n",
    "attr, delta = ig.attribute(sample, target=int(y_test[0]), return_convergence_delta=True)\n",
    "\n",
    "print(\"Integrated Gradients attribution for first test sample:\")\n",
    "print(attr.detach().numpy())\n",
    "print(\"Convergence delta:\", delta.item())"
   ]
  },
  {
   "cell_type": "markdown",
   "id": "09a8e1a7",
   "metadata": {},
   "source": [
    "### Adversarial FGSM"
   ]
  },
  {
   "cell_type": "code",
   "execution_count": 16,
   "id": "8f20380a",
   "metadata": {},
   "outputs": [],
   "source": [
    "# --- FGSM Attack ---\n",
    "def fgsm_attack(model, x, y, epsilon, target_class=None):\n",
    "    x_adv = x.clone().detach().requires_grad_(True)\n",
    "    outputs = model(x_adv)\n",
    "\n",
    "    # Targeted: force DGA -> Tunnel\n",
    "    if target_class is not None:\n",
    "        y_target = torch.full_like(y, target_class)\n",
    "        loss = criterion(outputs, y_target)\n",
    "    else:\n",
    "        loss = criterion(outputs, y)\n",
    "\n",
    "    model.zero_grad()\n",
    "    loss.backward()\n",
    "\n",
    "    perturbation = epsilon * x_adv.grad.sign()\n",
    "    x_adv = x_adv + perturbation\n",
    "    return torch.clamp(x_adv, -5, 5).detach()  # keep in a valid range\n",
    "\n",
    "# Get only DGA samples from test set\n",
    "dga_label = np.where(le.classes_ == \"DGA\")[0][0]\n",
    "dga_idx = (y_test == dga_label).nonzero().squeeze()\n",
    "X_dga = X_test[dga_idx]\n",
    "y_dga = y_test[dga_idx]"
   ]
  },
  {
   "cell_type": "code",
   "execution_count": 21,
   "id": "f1adb32a",
   "metadata": {},
   "outputs": [
    {
     "name": "stdout",
     "output_type": "stream",
     "text": [
      "Untargeted FGSM flip rate (DGA misclassified): 12.20%\n"
     ]
    }
   ],
   "source": [
    "# Get label indices\n",
    "dga_label = le.transform([\"DGA\"])[0]\n",
    "tunnel_label = le.transform([\"tunnel\"])[0]\n",
    "\n",
    "# Extract only DGA samples\n",
    "dga_idx = (y_test == dga_label).nonzero().squeeze()\n",
    "X_dga = X_test[dga_idx]\n",
    "y_dga = y_test[dga_idx]\n",
    "\n",
    "# Untargeted attack first\n",
    "X_dga_adv = fgsm_attack(model, X_dga, y_dga, epsilon=0.2, target_class=None)\n",
    "\n",
    "adv_preds = model(X_dga_adv).argmax(dim=1)\n",
    "\n",
    "flip_rate = (adv_preds != y_dga).float().mean().item()\n",
    "print(f\"Untargeted FGSM flip rate (DGA misclassified): {flip_rate:.2%}\")\n"
   ]
  },
  {
   "cell_type": "code",
   "execution_count": 22,
   "id": "ff7d3b32",
   "metadata": {},
   "outputs": [
    {
     "name": "stdout",
     "output_type": "stream",
     "text": [
      "Epsilon=0.1: Targeted success 0.00%\n",
      "Epsilon=0.2: Targeted success 0.00%\n",
      "Epsilon=0.5: Targeted success 0.00%\n",
      "Epsilon=1.0: Targeted success 0.00%\n"
     ]
    }
   ],
   "source": [
    "for eps in [0.1, 0.2, 0.5, 1.0]:\n",
    "    X_dga_adv = fgsm_attack(model, X_dga, y_dga, epsilon=eps, target_class=tunnel_label)\n",
    "    adv_preds = model(X_dga_adv).argmax(dim=1)\n",
    "    success_rate = (adv_preds == tunnel_label).float().mean().item()\n",
    "    print(f\"Epsilon={eps}: Targeted success {success_rate:.2%}\")\n"
   ]
  },
  {
   "cell_type": "markdown",
   "id": "6822590a",
   "metadata": {},
   "source": [
    "### PGD "
   ]
  },
  {
   "cell_type": "code",
   "execution_count": 23,
   "id": "a5350a0f",
   "metadata": {},
   "outputs": [],
   "source": [
    "def pgd_attack(model, x, y, epsilon, alpha, iters, target_class=None):\n",
    "    x_adv = x.clone().detach()\n",
    "    for i in range(iters):\n",
    "        x_adv.requires_grad_(True)\n",
    "        outputs = model(x_adv)\n",
    "        if target_class is not None:\n",
    "            y_target = torch.full_like(y, target_class)\n",
    "            loss = criterion(outputs, y_target)\n",
    "        else:\n",
    "            loss = criterion(outputs, y)\n",
    "        model.zero_grad()\n",
    "        loss.backward()\n",
    "        with torch.no_grad():\n",
    "            grad = x_adv.grad.sign()\n",
    "            if target_class is not None:\n",
    "                x_adv = x_adv - alpha * grad  # targeted → descend\n",
    "            else:\n",
    "                x_adv = x_adv + alpha * grad  # untargeted → ascend\n",
    "            # Project into epsilon-ball\n",
    "            perturb = torch.clamp(x_adv - x, min=-epsilon, max=epsilon)\n",
    "            x_adv = torch.clamp(x + perturb, -5, 5)\n",
    "    return x_adv.detach()\n"
   ]
  },
  {
   "cell_type": "code",
   "execution_count": 24,
   "id": "b4f6b553",
   "metadata": {},
   "outputs": [
    {
     "name": "stdout",
     "output_type": "stream",
     "text": [
      "PGD targeted success: 0.9312638640403748\n"
     ]
    }
   ],
   "source": [
    "X_dga_adv = pgd_attack(model, X_dga, y_dga, epsilon=0.5, alpha=0.05, iters=40, target_class=tunnel_label)\n",
    "adv_preds = model(X_dga_adv).argmax(dim=1)\n",
    "success_rate = (adv_preds == tunnel_label).float().mean().item()\n",
    "print(\"PGD targeted success:\", success_rate)\n"
   ]
  },
  {
   "cell_type": "code",
   "execution_count": 25,
   "id": "b3a1cf5f",
   "metadata": {},
   "outputs": [
    {
     "name": "stdout",
     "output_type": "stream",
     "text": [
      "    orig_f0        adv_f0  orig_f1     adv_f1     orig_f2     adv_f2  orig_f3  \\\n",
      "0  208933.0  157772.78125     52.0  49.693684  102.922661  53.293518    646.0   \n",
      "1  208933.0  157772.78125     52.0  49.693684  102.922661  53.293518    646.0   \n",
      "2  209973.0  158812.78125     52.0  49.693684  102.425850  52.796715    646.0   \n",
      "3  209037.0  157876.78125     52.0  49.693684  102.872536  53.243397    646.0   \n",
      "4  208992.0  157831.78125     52.0  49.693684  102.901031  53.271896    646.0   \n",
      "\n",
      "       adv_f3       orig_f4    adv_f4  ...   adv_f11  orig_f12   adv_f12  \\\n",
      "0  494.442169  9.536689e-07 -0.002086  ...  0.029968  0.025965 -2.339527   \n",
      "1  494.442169  1.907343e-06 -0.002085  ...  0.029965  0.026937 -2.338555   \n",
      "2  494.442169  1.907343e-06 -0.002085  ...  0.029965  0.027250 -2.338242   \n",
      "3  494.442169  1.907343e-06 -0.002085  ...  0.029969  0.025561 -2.339931   \n",
      "4  494.442169  2.145776e-06 -0.002084  ...  0.029965  0.021380 -2.344112   \n",
      "\n",
      "    orig_f13      adv_f13  orig_f14   adv_f14  orig_f15   adv_f15  \\\n",
      "0  10.114022 -2838.795410  0.000071  0.002009  0.642572  1.366493   \n",
      "1  10.117990 -2838.791504  0.000067  0.002005  0.642616  1.366536   \n",
      "2  10.098886 -2838.810547  0.000071  0.002009  0.643302  1.367222   \n",
      "3  10.118539 -2838.791016  0.000066  0.002004  0.642584  1.366504   \n",
      "4  10.092721 -2838.816650  0.000074  0.002012  0.642274  1.366194   \n",
      "\n",
      "   adv_prediction  \n",
      "0          tunnel  \n",
      "1          tunnel  \n",
      "2          tunnel  \n",
      "3          tunnel  \n",
      "4          tunnel  \n",
      "\n",
      "[5 rows x 33 columns]\n",
      "Saved adversarial samples to pgd_adversarial_success.csv\n"
     ]
    }
   ],
   "source": [
    "import pandas as pd\n",
    "import numpy as np\n",
    "import torch\n",
    "\n",
    "# --- 1. Generate PGD adversarial samples ---\n",
    "X_dga_adv = pgd_attack(\n",
    "    model, \n",
    "    X_dga, \n",
    "    y_dga, \n",
    "    epsilon=0.5, \n",
    "    alpha=0.05, \n",
    "    iters=40, \n",
    "    target_class=tunnel_label\n",
    ")\n",
    "\n",
    "# --- 2. Predictions on adversarial samples ---\n",
    "adv_preds = model(X_dga_adv).argmax(dim=1)\n",
    "\n",
    "# Convert to numpy for easier handling\n",
    "X_dga_adv_np = X_dga_adv.detach().cpu().numpy()\n",
    "adv_preds_np = adv_preds.detach().cpu().numpy()\n",
    "y_dga_np = y_dga.detach().cpu().numpy()\n",
    "\n",
    "# --- 3. Inverse transform to original feature scale ---\n",
    "X_dga_adv_original = scaler.inverse_transform(X_dga_adv_np)\n",
    "X_dga_original = scaler.inverse_transform(X_dga.detach().cpu().numpy())\n",
    "\n",
    "# --- 4. Filter: only those that succeeded (predicted tunnel) ---\n",
    "success_idx = np.where(adv_preds_np == tunnel_label)[0]\n",
    "\n",
    "X_adv_success = X_dga_adv_original[success_idx]\n",
    "X_orig_success = X_dga_original[success_idx]\n",
    "\n",
    "# --- 5. Build a DataFrame with original vs adversarial ---\n",
    "df_success = pd.DataFrame()\n",
    "\n",
    "for i in range(X.shape[1]):  # for each feature\n",
    "    df_success[f\"orig_f{i}\"] = X_orig_success[:, i]\n",
    "    df_success[f\"adv_f{i}\"] = X_adv_success[:, i]\n",
    "\n",
    "df_success[\"adv_prediction\"] = le.inverse_transform(adv_preds_np[success_idx])\n",
    "\n",
    "# --- 6. Print first few ---\n",
    "print(df_success.head())\n",
    "\n",
    "# --- 7. Save to CSV ---\n",
    "df_success.to_csv(\"pgd_adversarial_success.csv\", index=False)\n",
    "print(\"Saved adversarial samples to pgd_adversarial_success.csv\")\n"
   ]
  },
  {
   "cell_type": "code",
   "execution_count": null,
   "id": "045171fa",
   "metadata": {},
   "outputs": [],
   "source": []
  }
 ],
 "metadata": {
  "kernelspec": {
   "display_name": "jupyterenv",
   "language": "python",
   "name": "python3"
  },
  "language_info": {
   "codemirror_mode": {
    "name": "ipython",
    "version": 3
   },
   "file_extension": ".py",
   "mimetype": "text/x-python",
   "name": "python",
   "nbconvert_exporter": "python",
   "pygments_lexer": "ipython3",
   "version": "3.10.18"
  }
 },
 "nbformat": 4,
 "nbformat_minor": 5
}
