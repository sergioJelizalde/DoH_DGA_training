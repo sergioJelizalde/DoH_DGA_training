{
 "cells": [
  {
   "cell_type": "code",
   "execution_count": null,
   "id": "4ca05d39",
   "metadata": {},
   "outputs": [],
   "source": [
    "# Basic Python + libraries test\n",
    "\n",
    "import math\n",
    "import numpy as np\n",
    "import pandas as pd\n",
    "import matplotlib.pyplot as plt\n",
    "\n",
    "# 1. Pure Python math\n",
    "fact_5 = math.factorial(5)\n",
    "\n",
    "# 2. Numpy calculation\n",
    "arr = np.linspace(0, 2*np.pi, 100)\n",
    "sin_vals = np.sin(arr)\n",
    "\n",
    "# 3. Pandas DataFrame\n",
    "df = pd.DataFrame({\n",
    "    \"x\": arr,\n",
    "    \"sin(x)\": sin_vals\n",
    "})\n",
    "\n",
    "# 4. Plot with matplotlib\n",
    "plt.plot(df[\"x\"], df[\"sin(x)\"])\n",
    "plt.title(f\"Sine wave (5! = {fact_5})\")\n",
    "plt.xlabel(\"x\")\n",
    "plt.ylabel(\"sin(x)\")\n",
    "plt.grid(True)\n",
    "plt.show()\n",
    "\n",
    "# Print a quick sample of the dataframe\n",
    "df.head()\n"
   ]
  },
  {
   "cell_type": "code",
   "execution_count": null,
   "id": "294599c6",
   "metadata": {},
   "outputs": [],
   "source": []
  }
 ],
 "metadata": {
  "language_info": {
   "name": "python"
  }
 },
 "nbformat": 4,
 "nbformat_minor": 5
}
